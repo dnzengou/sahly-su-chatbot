{
 "cells": [
  {
   "cell_type": "markdown",
   "metadata": {
    "id": "_3gNmqZ1EbSN"
   },
   "source": [
    "# Building a Chatbot using Chatterbot in Python\n",
    "\n",
    "[![Open In Colab](https://colab.research.google.com/assets/colab-badge.svg)](xxx)\n",
    "\n",
    "[source](https://www.datacamp.com/tutorial/building-a-chatbot-using-chatterbot)"
   ]
  },
  {
   "cell_type": "code",
   "execution_count": null,
   "metadata": {
    "id": "F99KMvW5EbSU"
   },
   "outputs": [],
   "source": [
    "# Installation commands for Jupyter Notebook\n",
    "!pip install chatterbot\n",
    "!pip install chatterbot_corpus\n",
    "\n",
    "# Let's first import the Chatbot class of the chatterbot module\n",
    "# Importing chatterbot\n",
    "from chatterbot import ChatBot"
   ]
  },
  {
   "cell_type": "markdown",
   "metadata": {},
   "source": [
    "## Create Chatbot Instance"
   ]
  },
  {
   "cell_type": "code",
   "execution_count": null,
   "metadata": {},
   "outputs": [],
   "source": [
    "# Create object of ChatBot class\n",
    "bot = ChatBot('Buddy')"
   ]
  },
  {
   "cell_type": "code",
   "execution_count": null,
   "metadata": {},
   "outputs": [],
   "source": [
    "# Create object of ChatBot class with Storage Adapter\n",
    "bot = ChatBot(\n",
    "    'Buddy',\n",
    "    storage_adapter='chatterbot.storage.SQLStorageAdapter',\n",
    "    database_uri='sqlite:///database.sqlite3'\n",
    ")\n"
   ]
  },
  {
   "cell_type": "code",
   "execution_count": null,
   "metadata": {},
   "outputs": [],
   "source": [
    "# Create object of ChatBot class with Logic Adapter\n",
    "bot = ChatBot(\n",
    "    'Buddy',  \n",
    "    logic_adapters=[\n",
    "        'chatterbot.logic.BestMatch',\n",
    "        'chatterbot.logic.TimeLogicAdapter'],\n",
    ")\n"
   ]
  },
  {
   "cell_type": "markdown",
   "metadata": {},
   "source": [
    "## Training the chatbot"
   ]
  },
  {
   "cell_type": "code",
   "execution_count": null,
   "metadata": {},
   "outputs": [],
   "source": [
    "# Inport ListTrainer\n",
    "from chatterbot.trainers import ListTrainer\n",
    "\n",
    "trainer = ListTrainer(bot)\n",
    "\n",
    "trainer.train([\n",
    "'Hi',\n",
    "'Hello',\n",
    "'I need your assistance regarding my order',\n",
    "'Please, Provide me with your order id',\n",
    "'I have a complaint.',\n",
    "'Please elaborate, your concern',\n",
    "'How long it will take to receive an order ?',\n",
    "'An order takes 3-5 Business days to get delivered.',\n",
    "'Okay Thanks',\n",
    "'No Problem! Have a Good Day!'\n",
    "])\n"
   ]
  },
  {
   "cell_type": "markdown",
   "metadata": {},
   "source": [
    "## Chatbot Testing"
   ]
  },
  {
   "cell_type": "code",
   "execution_count": null,
   "metadata": {},
   "outputs": [],
   "source": [
    "# Get a response to the input text 'I would like to book a flight.'\n",
    "response = bot.get_response('I have a complaint.')\n",
    "\n",
    "print(\"Bot Response:\", response)\n"
   ]
  },
  {
   "cell_type": "code",
   "execution_count": null,
   "metadata": {},
   "outputs": [],
   "source": [
    "name=input(\"Enter Your Name: \")\n",
    "print(\"Welcome to the Bot Service! Let me know how can I help you?\")\n",
    "while True:\n",
    "    request=input(name+':')\n",
    "    if request=='Bye' or request =='bye':\n",
    "        print('Bot: Bye')\n",
    "        break\n",
    "    else:\n",
    "        response=bot.get_response(request)\n",
    "        print('Bot:',response)\n"
   ]
  },
  {
   "cell_type": "code",
   "execution_count": null,
   "metadata": {},
   "outputs": [],
   "source": []
  },
  {
   "cell_type": "markdown",
   "metadata": {
    "colab": {
     "base_uri": "https://localhost:8080/",
     "height": 1000
    },
    "id": "DsO4n--fpIj0",
    "outputId": "74a80c09-60fd-4f26-d958-d37e77639171"
   },
   "source": [
    "# Sahly chatbot\n",
    "\n",
    "```\n",
    "\n",
    "import io\n",
    "import random\n",
    "import string # to process standard python strings\n",
    "import numpy as np\n",
    "from sklearn.feature_extraction.text import TfidfVectorizer\n",
    "from sklearn.metrics.pairwise import cosine_similarity\n",
    "import warnings\n",
    "warnings.filterwarnings('ignore')\n",
    "\n",
    "# optionally, use Voilà to turn the Jupyter notebook into standalone web applications.\n",
    "#!pip install voila\n",
    "\n",
    "# display html content\n",
    "#from IPython.core.display import display, HTML\n",
    "\n",
    "#!pip install nltk\n",
    "\n",
    "import nltk\n",
    "from nltk.stem import WordNetLemmatizer\n",
    "nltk.download('popular', quiet=True) # for downloading packages\n",
    "#nltk.download('punkt') # first-time use only\n",
    "#nltk.download('wordnet') # first-time use only\n",
    "\n",
    "#f=open('chatbot.txt','r',errors = 'ignore')\n",
    "f=open('sahly.txt','r',errors = 'ignore')\n",
    "raw=f.read()\n",
    "raw = raw.lower()# converts to lowercase\n",
    "\n",
    "sent_tokens = nltk.sent_tokenize(raw)# converts to list of sentences \n",
    "word_tokens = nltk.word_tokenize(raw)# converts to list of words\n",
    "\n",
    "\n",
    "lemmer = nltk.stem.WordNetLemmatizer()\n",
    "#WordNet is a semantically-oriented dictionary of English included in NLTK.\n",
    "def LemTokens(tokens):\n",
    "    return [lemmer.lemmatize(token) for token in tokens]\n",
    "remove_punct_dict = dict((ord(punct), None) for punct in string.punctuation)\n",
    "\n",
    "def LemNormalize(text):\n",
    "    return LemTokens(nltk.word_tokenize(text.lower().translate(remove_punct_dict)))\n",
    "\n",
    "\n",
    "\n",
    "GREETING_INPUTS = (\"hej\", \"hej\", \"hälsningar\", \"sup\", \"vad händer\", \"hej\",)\n",
    "GREETING_RESPONSES = [\"hej\", \"hej\", \"hej där\", \"hej\", \"jag är glad! Du pratar med mig\"]\n",
    "def greeting(sentence):\n",
    " \n",
    "    for word in sentence.split():\n",
    "        if word.lower() in GREETING_INPUTS:\n",
    "            return random.choice(GREETING_RESPONSES)\n",
    "\n",
    "        \n",
    "def response(user_response):\n",
    "    robo_response=''\n",
    "    sent_tokens.append(user_response)\n",
    "    TfidfVec = TfidfVectorizer(tokenizer=LemNormalize, stop_words='english')\n",
    "    tfidf = TfidfVec.fit_transform(sent_tokens)\n",
    "    vals = cosine_similarity(tfidf[-1], tfidf)\n",
    "    idx=vals.argsort()[0][-2]\n",
    "    flat = vals.flatten()\n",
    "    flat.sort()\n",
    "    req_tfidf = flat[-2]\n",
    "    if(req_tfidf==0):\n",
    "        robo_response=robo_response+\"Jag är ledsen! Jag förstår dig inte\"\n",
    "        return robo_response\n",
    "    else:\n",
    "        robo_response = robo_response+sent_tokens[idx]\n",
    "        return robo_response\n",
    "\n",
    "\n",
    "\n",
    "    flag=True\n",
    "print(\"SAHLY: Jag heter Sahly. Jag kommer att svara på dina frågor om SU Chatbot.Vad den är, vad den gör, om syfte, vision, utvekling, design och mer. Om du vill avsluta, skriv Hejdå!!\")\n",
    "while(flag==True):\n",
    "    user_response = input()\n",
    "    user_response=user_response.lower()\n",
    "    if(user_response!='hejdå'):\n",
    "        if(user_response=='tack' or user_response=='tack' ):\n",
    "            flag=False\n",
    "            print(\"SAHLY: Varsågod..\")\n",
    "        else:\n",
    "            if(greeting(user_response)!=None):\n",
    "                print(\"SAHLY: \"+greeting(user_response))\n",
    "            else:\n",
    "                print(\"SAHLY: \",end=\"\")\n",
    "                print(response(user_response))\n",
    "                sent_tokens.remove(user_response)\n",
    "    else:\n",
    "        flag=False\n",
    "        print(\"SAHLY: Hejdå! Ta hand om dig..\")\n",
    "\n",
    "        \n",
    "\n",
    "```\n"
   ]
  }
 ],
 "metadata": {
  "colab": {
   "collapsed_sections": [],
   "provenance": []
  },
  "kernelspec": {
   "display_name": "Python 3 (ipykernel)",
   "language": "python",
   "name": "python3"
  },
  "language_info": {
   "codemirror_mode": {
    "name": "ipython",
    "version": 3
   },
   "file_extension": ".py",
   "mimetype": "text/x-python",
   "name": "python",
   "nbconvert_exporter": "python",
   "pygments_lexer": "ipython3",
   "version": "3.9.7"
  }
 },
 "nbformat": 4,
 "nbformat_minor": 1
}
